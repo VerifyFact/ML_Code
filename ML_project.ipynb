{
 "cells": [
  {
   "cell_type": "code",
   "execution_count": 14,
   "id": "b824f6fa-1eb9-47a4-b6af-311b1b4f1e17",
   "metadata": {},
   "outputs": [
    {
     "name": "stdout",
     "output_type": "stream",
     "text": [
      "총 JSON 파일 수: 0\n",
      "예시 파일: []\n",
      "현재 작업 디렉토리: /home/linux1360/ML_project\n"
     ]
    }
   ],
   "source": [
    "import glob\n",
    "\n",
    "json_files = glob.glob(\"Sample/*.json\")\n",
    "print(f\"총 JSON 파일 수: {len(json_files)}\")\n",
    "print(\"예시 파일:\", json_files[:3])\n",
    "\n",
    "import os\n",
    "print(\"현재 작업 디렉토리:\", os.getcwd())"
   ]
  },
  {
   "cell_type": "code",
   "execution_count": 3,
   "id": "053dc8cf-d79c-4087-b1a2-823c66eaeca9",
   "metadata": {},
   "outputs": [
    {
     "name": "stdout",
     "output_type": "stream",
     "text": [
      "/home/linux1360/myenv/bin/python\n"
     ]
    }
   ],
   "source": [
    "!pip install scikit-learn"
   ]
  },
  {
   "cell_type": "code",
   "execution_count": 1,
   "id": "dc5d00ed-77c9-48c1-b4d2-1b39e9e168e9",
   "metadata": {},
   "outputs": [
    {
     "name": "stdout",
     "output_type": "stream",
     "text": [
      "1.6.1\n"
     ]
    }
   ],
   "source": [
    "import sklearn\n",
    "print(sklearn.__version__)"
   ]
  },
  {
   "cell_type": "code",
   "execution_count": 2,
   "id": "7cf367c9-2ea5-452d-ba1c-706ac2584b59",
   "metadata": {},
   "outputs": [
    {
     "data": {
      "text/html": [
       "<div>\n",
       "<style scoped>\n",
       "    .dataframe tbody tr th:only-of-type {\n",
       "        vertical-align: middle;\n",
       "    }\n",
       "\n",
       "    .dataframe tbody tr th {\n",
       "        vertical-align: top;\n",
       "    }\n",
       "\n",
       "    .dataframe thead th {\n",
       "        text-align: right;\n",
       "    }\n",
       "</style>\n",
       "<table border=\"1\" class=\"dataframe\">\n",
       "  <thead>\n",
       "    <tr style=\"text-align: right;\">\n",
       "      <th></th>\n",
       "      <th>title</th>\n",
       "      <th>content</th>\n",
       "      <th>label</th>\n",
       "    </tr>\n",
       "  </thead>\n",
       "  <tbody>\n",
       "    <tr>\n",
       "      <th>0</th>\n",
       "      <td>금감원, 금리인상 여파에 가계대출 관리 나서</td>\n",
       "      <td>최근 미국이 기준금리를 0.25% 인상해 10년 만에 연 2%대 기준금리로 올라서면...</td>\n",
       "      <td>0</td>\n",
       "    </tr>\n",
       "  </tbody>\n",
       "</table>\n",
       "</div>"
      ],
      "text/plain": [
       "                      title  \\\n",
       "0  금감원, 금리인상 여파에 가계대출 관리 나서   \n",
       "\n",
       "                                             content  label  \n",
       "0  최근 미국이 기준금리를 0.25% 인상해 10년 만에 연 2%대 기준금리로 올라서면...      0  "
      ]
     },
     "execution_count": 2,
     "metadata": {},
     "output_type": "execute_result"
    }
   ],
   "source": [
    "import json\n",
    "import pandas as pd\n",
    "\n",
    "# 정확한 경로로 수정하세요\n",
    "json_path = \"Sample/Labeling_Data/Part2/Clickbait_Direct/EC/EC_M02_617512_L.json\"\n",
    "\n",
    "# JSON 불러오기\n",
    "with open(json_path, \"r\", encoding=\"utf-8\") as f:\n",
    "    raw = json.load(f)\n",
    "\n",
    "# 주요 필드 추출\n",
    "title = raw['sourceDataInfo']['newsTitle']\n",
    "content = ' '.join([s['sentenceContent'] for s in raw['sourceDataInfo']['sentenceInfo']])\n",
    "label = raw['labeledDataInfo'].get('clickbaitClass', None)\n",
    "\n",
    "# DataFrame 구성\n",
    "df = pd.DataFrame([{\n",
    "    'title': title,\n",
    "    'content': content,\n",
    "    'label': label\n",
    "}])\n",
    "\n",
    "df.head()\n"
   ]
  },
  {
   "cell_type": "code",
   "execution_count": 1,
   "id": "e088596f-8b12-4393-9d25-a6853944b850",
   "metadata": {},
   "outputs": [
    {
     "name": "stdout",
     "output_type": "stream",
     "text": [
      "/home/linux1360/venv/bin/python\n"
     ]
    }
   ],
   "source": [
    "import sys\n",
    "print(sys.executable)\n"
   ]
  },
  {
   "cell_type": "code",
   "execution_count": 1,
   "id": "02f069b7-ceb7-401b-9092-761f4c6f3927",
   "metadata": {},
   "outputs": [
    {
     "name": "stdout",
     "output_type": "stream",
     "text": [
      "존재 여부: True\n"
     ]
    }
   ],
   "source": [
    "import os\n",
    "\n",
    "# Notebook 기준 절대경로\n",
    "json_path = os.path.join(os.getcwd(), \"Sample/Labeling_Data\")\n",
    "print(\"존재 여부:\", os.path.exists(json_path))"
   ]
  },
  {
   "cell_type": "code",
   "execution_count": 9,
   "id": "baf7aa17-5442-475f-a8f6-0b655bc134e6",
   "metadata": {},
   "outputs": [],
   "source": [
    "import json\n",
    "import pandas as pd\n",
    "from sklearn.feature_extraction.text import TfidfVectorizer\n",
    "from sentence_transformers import SentenceTransformer\n",
    "from sklearn.metrics.pairwise import cosine_similarity\n",
    "\n",
    "# JSON 경로 설정\n",
    "json_path = \"Sample/Labeling_Data/Part2/Clickbait_Direct/EC/EC_M02_617512_L.json\"\n",
    "\n",
    "# JSON 파일 로딩\n",
    "with open(json_path, \"r\", encoding=\"utf-8\") as f:\n",
    "    data = json.load(f)\n",
    "\n",
    "# 뉴스 제목\n",
    "title = data['sourceDataInfo']['newsTitle']\n",
    "\n",
    "# 뉴스 본문: sentenceInfo 내 모든 문장을 하나로 연결\n",
    "# content = ' '.join([s['sentenceContent'] for s in data['sourceDataInfo']['sentenceInfo']])\n",
    "\n",
    "# 라벨: 낚시성 여부\n",
    "label = data['labeledDataInfo'].get('clickbaitClass', None)\n",
    "\n",
    "# 데이터프레임으로 정리\n",
    "df = pd.DataFrame([{\n",
    "    'title': title,\n",
    "    'content': content,\n",
    "    'label': label\n",
    "}])"
   ]
  },
  {
   "cell_type": "code",
   "execution_count": 8,
   "id": "542376ab-05ee-40d1-9078-10afd4ac40d3",
   "metadata": {},
   "outputs": [
    {
     "name": "stderr",
     "output_type": "stream",
     "text": [
      "Xet Storage is enabled for this repo, but the 'hf_xet' package is not installed. Falling back to regular HTTP download. For better performance, install the package with: `pip install huggingface_hub[hf_xet]` or `pip install hf_xet`\n"
     ]
    },
    {
     "name": "stdout",
     "output_type": "stream",
     "text": [
      "제목-본문 유사도: 0.8503262\n",
      "불일치형 예측: 0\n"
     ]
    }
   ],
   "source": [
    "model = SentenceTransformer('paraphrase-MiniLM-L6-v2')\n",
    "\n",
    "title_emb = model.encode([df['title'][0]])\n",
    "content_emb = model.encode([df['content'][0]])\n",
    "\n",
    "similarity = cosine_similarity(title_emb, content_emb)[0][0]\n",
    "df['similarity'] = similarity\n",
    "df['mismatch_pred'] = (similarity < 0.5).astype(int)\n",
    "\n",
    "print(\"제목-본문 유사도:\", similarity)\n",
    "print(\"불일치형 예측:\", df['mismatch_pred'][0])\n"
   ]
  },
  {
   "cell_type": "code",
   "execution_count": 10,
   "id": "3d8c76a6-a134-4ab7-a3ce-6c9d9aeb2898",
   "metadata": {},
   "outputs": [
    {
     "name": "stdout",
     "output_type": "stream",
     "text": [
      "✅ 총 1927개 기사 불러옴\n"
     ]
    }
   ],
   "source": [
    "import os\n",
    "import json\n",
    "import pandas as pd\n",
    "import glob\n",
    "\n",
    "json_dir = \"Sample/Labeling_Data/Part2/Clickbait_Direct/EC/\"\n",
    "json_files = glob.glob(os.path.join(json_dir, \"*.json\"))\n",
    "\n",
    "data = []\n",
    "for path in json_files:\n",
    "    with open(path, 'r', encoding='utf-8') as f:\n",
    "        try:\n",
    "            raw = json.load(f)\n",
    "            title = raw['sourceDataInfo']['newsTitle']\n",
    "            content = ' '.join([s['sentenceContent'] for s in raw['sourceDataInfo']['sentenceInfo']])\n",
    "            label = raw['labeledDataInfo'].get('clickbaitClass', None)\n",
    "            if label is not None:\n",
    "                data.append({'title': title, 'content': content, 'label': label})\n",
    "        except Exception as e:\n",
    "            print(f\"❌ 오류 파일: {path}, 에러: {e}\")\n",
    "\n",
    "df = pd.DataFrame(data)\n",
    "print(f\"✅ 총 {len(df)}개 기사 불러옴\")"
   ]
  },
  {
   "cell_type": "code",
   "execution_count": 11,
   "id": "ecdf8d69-57f1-497a-aedc-a665cdda2d2c",
   "metadata": {},
   "outputs": [],
   "source": [
    "from sklearn.feature_extraction.text import TfidfVectorizer\n",
    "\n",
    "emotion_keywords = ['충격', '경악', '폭로', '소름', '믿기지 않는', '눈물', '헉', '충격적', '파문']\n",
    "vectorizer = TfidfVectorizer(vocabulary=emotion_keywords)\n",
    "tfidf_matrix = vectorizer.fit_transform(df['title'])\n",
    "\n",
    "df['emotion_score'] = tfidf_matrix.sum(axis=1).A1\n",
    "df['emotion_pred'] = (df['emotion_score'] > 0.3).astype(int)"
   ]
  },
  {
   "cell_type": "code",
   "execution_count": 13,
   "id": "22aacd4c-4eda-47db-9657-732447347bc1",
   "metadata": {},
   "outputs": [
    {
     "name": "stderr",
     "output_type": "stream",
     "text": [
      "🔍 JSON 처리 중: 100%|█████████████████| 1927/1927 [00:00<00:00, 10829.24파일/s]"
     ]
    },
    {
     "name": "stdout",
     "output_type": "stream",
     "text": [
      "✅ 총 1927개 기사 불러옴\n"
     ]
    },
    {
     "name": "stderr",
     "output_type": "stream",
     "text": [
      "\n"
     ]
    }
   ],
   "source": [
    "from tqdm import tqdm\n",
    "import json\n",
    "import os\n",
    "import glob\n",
    "import pandas as pd\n",
    "\n",
    "json_dir = \"Sample/Labeling_Data/Part2/Clickbait_Direct/EC/\"\n",
    "json_files = glob.glob(os.path.join(json_dir, \"*.json\"))\n",
    "\n",
    "data = []\n",
    "\n",
    "for path in tqdm(json_files, desc=\"🔍 JSON 처리 중\", unit=\"파일\"):\n",
    "    try:\n",
    "        with open(path, 'r', encoding='utf-8') as f:\n",
    "            raw = json.load(f)\n",
    "            title = raw['sourceDataInfo']['newsTitle']\n",
    "            content = ' '.join([s['sentenceContent'] for s in raw['sourceDataInfo']['sentenceInfo']])\n",
    "            label = raw['labeledDataInfo'].get('clickbaitClass', None)\n",
    "            if label is not None:\n",
    "                data.append({'title': title, 'content': content, 'label': label})\n",
    "    except Exception as e:\n",
    "        print(f\"❌ 오류 파일: {path}, 에러: {e}\")\n",
    "\n",
    "df = pd.DataFrame(data)\n",
    "print(f\"✅ 총 {len(df)}개 기사 불러옴\")"
   ]
  },
  {
   "cell_type": "code",
   "execution_count": 14,
   "id": "12eb2482-d625-47a1-8f6a-38fc5c210368",
   "metadata": {},
   "outputs": [
    {
     "name": "stderr",
     "output_type": "stream",
     "text": [
      "🎯 감정 점수 계산 중: 1927기사 [00:00, 25539.22기사/s]\n"
     ]
    }
   ],
   "source": [
    "from sklearn.feature_extraction.text import TfidfVectorizer\n",
    "from tqdm import tqdm\n",
    "\n",
    "# tqdm을 통해 진행률 표시\n",
    "emotion_keywords = ['충격', '경악', '폭로', '소름', '믿기지 않는', '눈물', '헉', '충격적', '파문']\n",
    "vectorizer = TfidfVectorizer(vocabulary=emotion_keywords)\n",
    "tfidf_matrix = vectorizer.fit_transform(df['title'])\n",
    "\n",
    "# 감정 점수 계산 + tqdm 추가\n",
    "emotion_scores = []\n",
    "for row in tqdm(tfidf_matrix, desc=\"🎯 감정 점수 계산 중\", unit=\"기사\"):\n",
    "    emotion_scores.append(row.sum())\n",
    "\n",
    "df['emotion_score'] = emotion_scores\n",
    "df['emotion_pred'] = (df['emotion_score'] > 0.3).astype(int)"
   ]
  },
  {
   "cell_type": "code",
   "execution_count": 16,
   "id": "f2249dc5-87e8-4c08-b1a6-75d913748739",
   "metadata": {},
   "outputs": [
    {
     "name": "stderr",
     "output_type": "stream",
     "text": [
      "🧠 제목 임베딩 중: 100%|█████████████████| 1927/1927 [00:07<00:00, 268.57제목/s]\n",
      "📄 본문 임베딩 중: 100%|█████████████████| 1927/1927 [00:11<00:00, 161.95본문/s]\n",
      "📏 유사도 계산 중: 100%|██████████████████| 1927/1927 [00:00<00:00, 4577.18쌍/s]\n"
     ]
    }
   ],
   "source": [
    "from sentence_transformers import SentenceTransformer\n",
    "from sklearn.metrics.pairwise import cosine_similarity\n",
    "from tqdm import tqdm\n",
    "\n",
    "model = SentenceTransformer('paraphrase-MiniLM-L6-v2')\n",
    "\n",
    "# 제목과 본문 임베딩 with 진행률 표시\n",
    "title_embs = []\n",
    "for title in tqdm(df['title'], desc=\"🧠 제목 임베딩 중\", unit=\"제목\"):\n",
    "    title_embs.append(model.encode(title))\n",
    "\n",
    "content_embs = []\n",
    "for content in tqdm(df['content'], desc=\"📄 본문 임베딩 중\", unit=\"본문\"):\n",
    "    content_embs.append(model.encode(content))\n",
    "\n",
    "# 유사도 계산 with 진행률 표시\n",
    "similarities = []\n",
    "for i in tqdm(range(len(df)), desc=\"📏 유사도 계산 중\", unit=\"쌍\"):\n",
    "    sim = cosine_similarity([title_embs[i]], [content_embs[i]])[0][0]\n",
    "    similarities.append(sim)\n",
    "\n",
    "# 결과 저장\n",
    "df['similarity'] = similarities\n",
    "df['mismatch_pred'] = (df['similarity'] < 0.5).astype(int)"
   ]
  },
  {
   "cell_type": "code",
   "execution_count": 17,
   "id": "85acaa88-0d7c-4f30-8435-e05fc8f89c5e",
   "metadata": {},
   "outputs": [
    {
     "name": "stdout",
     "output_type": "stream",
     "text": [
      "\n",
      "📊 유사도 분석 결과 예시:\n",
      "                                title  similarity  mismatch_pred\n",
      "0  재택근무기업 넷 중 셋은 \\\"코로나 종식 후에도 계속 시행\\\"    0.880568              0\n",
      "1           디지털 뉴딜 5대 대표과제... 데이터 댐 등    0.861681              0\n",
      "2         '인공지능 국가전략' 1주년 맞아 민·관 성과공유    0.864173              0\n",
      "3        FTA 원산지관리, FTA-PASS로 쉽고 편리하게    0.858497              0\n",
      "4               신라 금령총 94년만에 재발굴 들어간다    0.915782              0\n"
     ]
    }
   ],
   "source": [
    "# 결과 미리보기\n",
    "print(\"\\n📊 유사도 분석 결과 예시:\")\n",
    "print(df[['title', 'similarity', 'mismatch_pred']].head())"
   ]
  },
  {
   "cell_type": "code",
   "execution_count": 18,
   "id": "e5597dfe-4773-433c-8244-310673aa9679",
   "metadata": {},
   "outputs": [
    {
     "name": "stdout",
     "output_type": "stream",
     "text": [
      "\n",
      "🎯 제목-본문 불일치형 탐지 성능 평가:\n",
      "              precision    recall  f1-score   support\n",
      "\n",
      "          정상       1.00      1.00      1.00      1927\n",
      "         낚시성       0.00      0.00      0.00         0\n",
      "\n",
      "    accuracy                           1.00      1927\n",
      "   macro avg       0.50      0.50      0.50      1927\n",
      "weighted avg       1.00      1.00      1.00      1927\n",
      "\n",
      "정확도: 0.9958\n"
     ]
    },
    {
     "name": "stderr",
     "output_type": "stream",
     "text": [
      "/home/linux1360/venv/lib/python3.12/site-packages/sklearn/metrics/_classification.py:1565: UndefinedMetricWarning: Recall is ill-defined and being set to 0.0 in labels with no true samples. Use `zero_division` parameter to control this behavior.\n",
      "  _warn_prf(average, modifier, f\"{metric.capitalize()} is\", len(result))\n",
      "/home/linux1360/venv/lib/python3.12/site-packages/sklearn/metrics/_classification.py:1565: UndefinedMetricWarning: Recall is ill-defined and being set to 0.0 in labels with no true samples. Use `zero_division` parameter to control this behavior.\n",
      "  _warn_prf(average, modifier, f\"{metric.capitalize()} is\", len(result))\n",
      "/home/linux1360/venv/lib/python3.12/site-packages/sklearn/metrics/_classification.py:1565: UndefinedMetricWarning: Recall is ill-defined and being set to 0.0 in labels with no true samples. Use `zero_division` parameter to control this behavior.\n",
      "  _warn_prf(average, modifier, f\"{metric.capitalize()} is\", len(result))\n"
     ]
    }
   ],
   "source": [
    "from sklearn.metrics import classification_report, accuracy_score\n",
    "\n",
    "# 정확도, 정밀도, 재현율, F1 등 성능 평가\n",
    "print(\"\\n🎯 제목-본문 불일치형 탐지 성능 평가:\")\n",
    "y_true = df['label']\n",
    "y_pred = df['mismatch_pred']\n",
    "\n",
    "print(classification_report(y_true, y_pred, target_names=[\"정상\", \"낚시성\"]))\n",
    "print(f\"정확도: {accuracy_score(y_true, y_pred):.4f}\")"
   ]
  },
  {
   "cell_type": "code",
   "execution_count": 19,
   "id": "5f45b20c-9077-413a-920c-368def8516b4",
   "metadata": {},
   "outputs": [
    {
     "name": "stdout",
     "output_type": "stream",
     "text": [
      "\n",
      "📊 라벨 분포:\n",
      "label\n",
      "0    1927\n",
      "Name: count, dtype: int64\n"
     ]
    }
   ],
   "source": [
    "# 라벨 분포 확인\n",
    "y_counts = df['label'].value_counts()\n",
    "print(\"\\n📊 라벨 분포:\")\n",
    "print(y_counts)\n",
    "\n",
    "# 낚시성 기사(label==0)가 없는 경우 경고\n",
    "if 0 not in y_counts:\n",
    "    print(\"⚠️ 경고: '낚시성' 라벨(0)이 데이터셋에 없습니다. 평가가 왜곡될 수 있습니다.\")\n"
   ]
  },
  {
   "cell_type": "code",
   "execution_count": 24,
   "id": "f40d5a55-e1e5-4f52-98d3-3b90c3dde2b0",
   "metadata": {},
   "outputs": [
    {
     "name": "stdout",
     "output_type": "stream",
     "text": [
      "총 샘플 수: 38409 (낚시성: {1: 23363, 0: 15046})\n"
     ]
    },
    {
     "name": "stderr",
     "output_type": "stream",
     "text": [
      "Batches: 100%|█████████████████████████████| 1201/1201 [00:10<00:00, 119.08it/s]\n",
      "Batches: 100%|██████████████████████████████| 1201/1201 [00:28<00:00, 41.45it/s]\n"
     ]
    },
    {
     "name": "stdout",
     "output_type": "stream",
     "text": [
      "\n",
      "🎯 로지스틱 회귀 성능:\n",
      "              precision    recall  f1-score   support\n",
      "\n",
      "   clickbait       0.61      0.37      0.46      3009\n",
      "      normal       0.68      0.85      0.75      4673\n",
      "\n",
      "    accuracy                           0.66      7682\n",
      "   macro avg       0.64      0.61      0.61      7682\n",
      "weighted avg       0.65      0.66      0.64      7682\n",
      "\n"
     ]
    }
   ],
   "source": [
    "import os\n",
    "import json\n",
    "import numpy as np\n",
    "import pandas as pd\n",
    "from sklearn.model_selection import train_test_split\n",
    "from sklearn.linear_model import LogisticRegression\n",
    "from sklearn.metrics import classification_report\n",
    "from sentence_transformers import SentenceTransformer\n",
    "\n",
    "# 1. EC 폴더뿐만 아니라 Part1(불일치형)과 Part2(일관성 부족형) 전체 JSON 로드\n",
    "base_dir = \"/home/linux1360/ML_project/Sample/Labeling_Data\"\n",
    "json_paths = []\n",
    "for part in [\"Part1\", \"Part2\"]:\n",
    "    for root, _, files in os.walk(os.path.join(base_dir, part)):\n",
    "        for fname in files:\n",
    "            if fname.endswith(\".json\"):\n",
    "                json_paths.append(os.path.join(root, fname))\n",
    "\n",
    "# 2. 데이터프레임 구축\n",
    "rows = []\n",
    "for path in json_paths:\n",
    "    try:\n",
    "        with open(path, 'r', encoding='utf-8') as f:\n",
    "            raw = json.load(f)\n",
    "        title = raw['sourceDataInfo']['newsTitle']\n",
    "        content = ' '.join(s['sentenceContent'] for s in raw['sourceDataInfo']['sentenceInfo'])\n",
    "        label = raw['labeledDataInfo'].get('clickbaitClass')  # 0: 낚시성, 1: 정상\n",
    "        if label in (0,1):\n",
    "            rows.append((title, content, label))\n",
    "    except Exception:\n",
    "        continue\n",
    "\n",
    "df = pd.DataFrame(rows, columns=['title','content','label'])\n",
    "print(f\"총 샘플 수: {len(df)} (낚시성: {df['label'].value_counts().to_dict()})\")\n",
    "\n",
    "# 3. BERT 임베딩\n",
    "model = SentenceTransformer('paraphrase-MiniLM-L6-v2')\n",
    "title_embs = model.encode(df['title'].tolist(), show_progress_bar=True)\n",
    "content_embs = model.encode(df['content'].tolist(), show_progress_bar=True)\n",
    "\n",
    "# 4. 특성 행렬 생성 (임베딩 차이)\n",
    "X = np.abs(title_embs - content_embs)\n",
    "y = df['label'].values\n",
    "\n",
    "# 5. 학습/테스트 분할\n",
    "X_train, X_test, y_train, y_test = train_test_split(X, y, test_size=0.2, stratify=y, random_state=42)\n",
    "\n",
    "# 6. 로지스틱 회귀 모델 학습 및 평가\n",
    "clf = LogisticRegression(max_iter=1000)\n",
    "clf.fit(X_train, y_train)\n",
    "y_pred = clf.predict(X_test)\n",
    "print(\"\\n🎯 로지스틱 회귀 성능:\")\n",
    "print(classification_report(y_test, y_pred, target_names=['clickbait','normal']))\n"
   ]
  },
  {
   "cell_type": "code",
   "execution_count": 3,
   "id": "3031462c-f31f-43d2-ada4-30203a52196d",
   "metadata": {},
   "outputs": [],
   "source": [
    "\n",
    "# 셀 1: 임포트\n",
    "import os\n",
    "import glob\n",
    "import json\n",
    "import numpy as np\n",
    "import pandas as pd\n",
    "\n",
    "from tqdm import tqdm\n",
    "from sklearn.model_selection import train_test_split\n",
    "from sklearn.linear_model import LogisticRegression\n",
    "from sklearn.metrics import classification_report, f1_score\n",
    "from sklearn.ensemble import RandomForestClassifier, VotingClassifier\n",
    "from sklearn.feature_extraction.text import TfidfVectorizer\n",
    "from imblearn.over_sampling import SMOTE\n",
    "from xgboost import XGBClassifier\n",
    "from sentence_transformers import SentenceTransformer\n",
    "from sklearn.metrics.pairwise import cosine_similarity"
   ]
  },
  {
   "cell_type": "code",
   "execution_count": 4,
   "id": "e664c67f-81e0-40ee-b7ee-ec20786e6dc7",
   "metadata": {},
   "outputs": [
    {
     "name": "stderr",
     "output_type": "stream",
     "text": [
      "🔍 JSON 로딩: 0파일 [00:00, ?파일/s]"
     ]
    },
    {
     "name": "stdout",
     "output_type": "stream",
     "text": [
      "총 샘플: 0, 클래스 분포:\n",
      "Series([], Name: count, dtype: int64)\n"
     ]
    },
    {
     "name": "stderr",
     "output_type": "stream",
     "text": [
      "\n"
     ]
    }
   ],
   "source": [
    "# 셀 2: JSON 파일 경로 수집\n",
    "base_dir = \"Sample/LabelingData/Part2/Clickbait_Direct/EC\"\n",
    "json_paths = []\n",
    "for part in [\"Part1\", \"Part2\"]:\n",
    "    pattern = os.path.join(base_dir, part, \"**\", \"*.json\")\n",
    "    json_paths += glob.glob(pattern, recursive=True)\n",
    "\n",
    "# 셀 2: 데이터프레임 생성\n",
    "rows = []\n",
    "for path in tqdm(json_paths, desc=\"🔍 JSON 로딩\", unit=\"파일\"):\n",
    "    with open(path, \"r\", encoding=\"utf-8\") as f:\n",
    "        raw = json.load(f)\n",
    "    title   = raw[\"sourceDataInfo\"][\"newsTitle\"]\n",
    "    content = \" \".join(x[\"sentenceContent\"] for x in raw[\"sourceDataInfo\"][\"sentenceInfo\"])\n",
    "    label   = raw[\"labeledDataInfo\"].get(\"clickbaitClass\")\n",
    "    if label in (0,1):\n",
    "        rows.append((title, content, label))\n",
    "\n",
    "df = pd.DataFrame(rows, columns=[\"title\",\"content\",\"label\"])\n",
    "print(f\"총 샘플: {len(df)}, 클래스 분포:\\n{df['label'].value_counts()}\")"
   ]
  },
  {
   "cell_type": "code",
   "execution_count": 8,
   "id": "e923485b-14a3-499d-8f94-7162702decaf",
   "metadata": {},
   "outputs": [
    {
     "name": "stdout",
     "output_type": "stream",
     "text": [
      "▶ JSON 파일 개수: 1927\n",
      "▶ 클래스 분포:\n",
      " label\n",
      "0    1927\n",
      "Name: count, dtype: int64 \n",
      "\n"
     ]
    }
   ],
   "source": [
    "import glob, json, os\n",
    "import numpy as np\n",
    "import pandas as pd\n",
    "\n",
    "from sentence_transformers import SentenceTransformer\n",
    "from sklearn.linear_model import LogisticRegression\n",
    "from sklearn.model_selection import cross_val_score, StratifiedKFold\n",
    "from sklearn.feature_extraction.text import TfidfVectorizer\n",
    "\n",
    "# 1) JSON 경로 설정\n",
    "json_dir = \"Sample/Labeling_Data/Part2/Clickbait_Direct/EC\"\n",
    "json_paths = glob.glob(os.path.join(json_dir, \"*.json\"))\n",
    "print(f\"▶ JSON 파일 개수: {len(json_paths)}\")\n",
    "\n",
    "# 2) DataFrame으로 불러오기\n",
    "rows = []\n",
    "for path in json_paths:\n",
    "    with open(path, 'r', encoding='utf-8') as f:\n",
    "        raw = json.load(f)\n",
    "    title   = raw['sourceDataInfo']['newsTitle']\n",
    "    content = \" \".join(s['sentenceContent'] for s in raw['sourceDataInfo']['sentenceInfo'])\n",
    "    label   = raw['labeledDataInfo'].get('clickbaitClass')\n",
    "    if label in (0,1):\n",
    "        rows.append((title, content, label))\n",
    "\n",
    "df = pd.DataFrame(rows, columns=['title','content','label'])\n",
    "print(\"▶ 클래스 분포:\\n\", df['label'].value_counts(), \"\\n\")"
   ]
  },
  {
   "cell_type": "code",
   "execution_count": 9,
   "id": "a7935ae4-199c-452c-8cf2-6b356ffa1e9f",
   "metadata": {},
   "outputs": [
    {
     "name": "stderr",
     "output_type": "stream",
     "text": [
      "Batches: 100%|██████████████████████████████████| 61/61 [00:01<00:00, 40.49it/s]\n",
      "Batches: 100%|██████████████████████████████████| 61/61 [00:02<00:00, 25.07it/s]\n"
     ]
    }
   ],
   "source": [
    "model    = SentenceTransformer('paraphrase-MiniLM-L6-v2')\n",
    "t_emb    = model.encode(df['title'].tolist(), show_progress_bar=True)\n",
    "c_emb    = model.encode(df['content'].tolist(), show_progress_bar=True)\n",
    "X_embed  = np.abs(t_emb - c_emb)"
   ]
  },
  {
   "cell_type": "code",
   "execution_count": 12,
   "id": "fdd3a3a6-e9ce-412c-acfc-8663660c45a8",
   "metadata": {},
   "outputs": [],
   "source": [
    "emo_kw   = ['충격','경악','폭로','소름','눈물']\n",
    "tfidf    = TfidfVectorizer(vocabulary=emo_kw)\n",
    "emo_sc   = tfidf.fit_transform(df['title']).sum(axis=1).A1"
   ]
  },
  {
   "cell_type": "code",
   "execution_count": 16,
   "id": "8210f20e-3a68-4eff-af5f-7a2b82e9a1c0",
   "metadata": {},
   "outputs": [
    {
     "name": "stdout",
     "output_type": "stream",
     "text": [
      "샘플 수: 6574, 클래스 분포:\n",
      "label\n",
      "1    4647\n",
      "0    1927\n",
      "Name: count, dtype: int64\n",
      "\n"
     ]
    },
    {
     "name": "stderr",
     "output_type": "stream",
     "text": [
      "Batches: 100%|████████████████████████████████| 206/206 [00:04<00:00, 43.09it/s]\n",
      "Batches: 100%|████████████████████████████████| 206/206 [00:08<00:00, 24.71it/s]\n"
     ]
    },
    {
     "name": "stdout",
     "output_type": "stream",
     "text": [
      "▶ General Model – Accuracy: 0.724,  F1: 0.824\n"
     ]
    }
   ],
   "source": [
    "import os\n",
    "import glob\n",
    "import json\n",
    "import numpy as np\n",
    "import pandas as pd\n",
    "from sklearn.model_selection import cross_val_score, StratifiedKFold\n",
    "from sklearn.linear_model import LogisticRegression\n",
    "from sentence_transformers import SentenceTransformer\n",
    "from sklearn.feature_extraction.text import TfidfVectorizer\n",
    "\n",
    "# 1. JSON 파일 경로 설정\n",
    "clickbait_dir = \"Sample/Labeling_Data/Part2/Clickbait_Direct/EC\"\n",
    "noncb_dir    = \"Sample/Labeling_Data/Part2/NonClickbait_Auto/EC\"\n",
    "\n",
    "paths = []\n",
    "# 클릭베이트(0) 경로\n",
    "for path in glob.glob(os.path.join(clickbait_dir, \"*.json\")):\n",
    "    paths.append((path, 0))\n",
    "# 논클릭베이트(1) 경로\n",
    "for path in glob.glob(os.path.join(noncb_dir, \"*.json\")):\n",
    "    paths.append((path, 1))\n",
    "\n",
    "# 2. 데이터로딩\n",
    "rows = []\n",
    "for path, lbl in paths:\n",
    "    with open(path, 'r', encoding='utf-8') as f:\n",
    "        raw = json.load(f)\n",
    "    title   = raw['sourceDataInfo']['newsTitle']\n",
    "    content = \" \".join(x['sentenceContent'] for x in raw['sourceDataInfo']['sentenceInfo'])\n",
    "    rows.append((title, content, lbl))\n",
    "\n",
    "# DataFrame 생성\n",
    "df = pd.DataFrame(rows, columns=['title','content','label'])\n",
    "print(f\"샘플 수: {len(df)}, 클래스 분포:\\n{df['label'].value_counts()}\\n\")\n",
    "\n",
    "# 3. 특징 생성\n",
    "model    = SentenceTransformer('paraphrase-MiniLM-L6-v2')\n",
    "t_emb    = model.encode(df['title'].tolist(), show_progress_bar=True)\n",
    "c_emb    = model.encode(df['content'].tolist(), show_progress_bar=True)\n",
    "X_embed  = np.abs(t_emb - c_emb)\n",
    "\n",
    "emo_kw   = ['충격','경악','폭로','소름','눈물']\n",
    "tfidf    = TfidfVectorizer(vocabulary=emo_kw)\n",
    "emo_sc   = tfidf.fit_transform(df['title']).sum(axis=1).A1\n",
    "\n",
    "X = np.hstack([X_embed, emo_sc.reshape(-1,1)])\n",
    "y = df['label'].values\n",
    "\n",
    "# 4. 유효성 확인 및 평가\n",
    "unique_labels = np.unique(y)\n",
    "if len(unique_labels) < 2:\n",
    "    print(f\"⚠️ 경고: 단일 클래스만 존재합니다 ({unique_labels[0]}). 평가를 생략합니다.\")\n",
    "else:\n",
    "    clf = LogisticRegression(max_iter=1000)\n",
    "    cv  = StratifiedKFold(n_splits=5, shuffle=True, random_state=42)\n",
    "    acc = cross_val_score(clf, X, y, cv=cv, scoring='accuracy').mean()\n",
    "    f1  = cross_val_score(clf, X, y, cv=cv, scoring='f1').mean()\n",
    "    print(f\"▶ General Model – Accuracy: {acc:.3f},  F1: {f1:.3f}\")\n"
   ]
  },
  {
   "cell_type": "code",
   "execution_count": 37,
   "id": "8bb5ec1f-5a5f-4a08-8353-082ffaad43e3",
   "metadata": {},
   "outputs": [
    {
     "name": "stdout",
     "output_type": "stream",
     "text": [
      "샘플 수: 11921, 클래스 분포:\n",
      "label\n",
      "1    9994\n",
      "0    1927\n",
      "Name: count, dtype: int64\n",
      "\n",
      "[감정 자극형 제목 탐지 결과: 임계값 튜닝]\n",
      "Threshold=0.0, F1-score=0.001\n",
      "Threshold=0.1, F1-score=0.001\n",
      "Threshold=0.2, F1-score=0.001\n",
      "Threshold=0.3, F1-score=0.001\n",
      "Threshold=0.4, F1-score=0.001\n",
      "Threshold=0.5, F1-score=0.001\n",
      "Threshold=0.6, F1-score=0.001\n",
      "Threshold=0.7, F1-score=0.001\n",
      "Threshold=0.8, F1-score=0.001\n",
      "Threshold=0.9, F1-score=0.001\n",
      "\n",
      "[최적 임계값 = 0.0]\n",
      "              precision    recall  f1-score   support\n",
      "\n",
      "   clickbait       0.16      1.00      0.28      1927\n",
      "      normal       0.83      0.00      0.00      9994\n",
      "\n",
      "    accuracy                           0.16     11921\n",
      "   macro avg       0.50      0.50      0.14     11921\n",
      "weighted avg       0.72      0.16      0.05     11921\n",
      "\n"
     ]
    },
    {
     "data": {
      "image/png": "[encoded data removed]",
      "text/plain": [
       "<Figure size 1000x600 with 1 Axes>"
      ]
     },
     "metadata": {},
     "output_type": "display_data"
    }
   ],
   "source": [
    "import os\n",
    "import glob\n",
    "import json\n",
    "import numpy as np\n",
    "import pandas as pd\n",
    "import matplotlib.pyplot as plt\n",
    "import seaborn as sns\n",
    "from sklearn.feature_extraction.text import TfidfVectorizer\n",
    "from sklearn.metrics import classification_report, f1_score\n",
    "\n",
    "# 1. 경로 설정\n",
    "clickbait_dir = \"Sample/Labeling_Data/Part2/Clickbait_Direct/EC\"\n",
    "noncb_dir     = \"Sample/Labeling_Data/Part2/NonClickbait_Auto/IS\"\n",
    "\n",
    "# 2. 데이터 로딩\n",
    "paths = []\n",
    "paths += [(p, 0) for p in glob.glob(os.path.join(clickbait_dir, \"*.json\"))]\n",
    "paths += [(p, 1) for p in glob.glob(os.path.join(noncb_dir, \"*.json\"))]\n",
    "\n",
    "data = []\n",
    "for path, lbl in paths:\n",
    "    with open(path, 'r', encoding='utf-8') as f:\n",
    "        raw = json.load(f)\n",
    "    title = raw['sourceDataInfo']['newsTitle']\n",
    "    data.append((title, lbl))\n",
    "\n",
    "df = pd.DataFrame(data, columns=['title', 'label'])\n",
    "print(f\"샘플 수: {len(df)}, 클래스 분포:\\n{df['label'].value_counts()}\\n\")\n",
    "\n",
    "# 3. 감정 키워드 기반 TF-IDF 점수 계산\n",
    "emo_keywords = ['충격', '경악', '폭로', '소름', '믿기지 않는', '눈물', '헉', '충격적', '파문']\n",
    "tfidf = TfidfVectorizer(vocabulary=emo_keywords)\n",
    "tfidf_matrix = tfidf.fit_transform(df['title'])\n",
    "df['emotion_score'] = tfidf_matrix.sum(axis=1).A1\n",
    "\n",
    "# 4. 임계값별 F1-score 평가\n",
    "thresholds = np.arange(0.0, 1.0, 0.1)\n",
    "print(\"[감정 자극형 제목 탐지 결과: 임계값 튜닝]\")\n",
    "best_f1, best_thr = 0, 0\n",
    "for t in thresholds:\n",
    "    pred = (df['emotion_score'] > t).astype(int)\n",
    "    f1 = f1_score(df['label'], pred)\n",
    "    print(f\"Threshold={t:.1f}, F1-score={f1:.3f}\")\n",
    "    if f1 > best_f1:\n",
    "        best_f1, best_thr = f1, t\n",
    "\n",
    "# 5. 최적 임계값 기준 리포트 출력\n",
    "df['pred'] = (df['emotion_score'] > best_thr).astype(int)\n",
    "print(f\"\\n[최적 임계값 = {best_thr:.1f}]\")\n",
    "print(classification_report(df['label'], df['pred'], target_names=['clickbait', 'normal']))\n",
    "\n",
    "# 6. 감정 점수 분포 시각화\n",
    "plt.figure(figsize=(10, 6))\n",
    "sns.histplot(data=df, x='emotion_score', hue='label', bins=30, kde=True, palette=['red', 'blue'])\n",
    "plt.axvline(x=best_thr, color='gray', linestyle='--', label=f'Threshold = {best_thr:.1f}')\n",
    "plt.title(\"Emotion Score Distribution (TF-IDF Sum Based)\")\n",
    "plt.xlabel(\"Emotion Score\")\n",
    "plt.ylabel(\"Count\")\n",
    "plt.legend(title='Label', labels=['Clickbait', 'Normal'])\n",
    "plt.grid(True)\n",
    "plt.tight_layout()\n",
    "plt.show()"
   ]
  },
  {
   "cell_type": "code",
   "execution_count": 38,
   "id": "c3523a28-1a59-4def-99bd-dda02c4dbd1f",
   "metadata": {},
   "outputs": [
    {
     "name": "stdout",
     "output_type": "stream",
     "text": [
      "emotion_score > 0 인 샘플 수: 6\n"
     ]
    }
   ],
   "source": [
    "print(\"emotion_score > 0 인 샘플 수:\", (df['emotion_score'] > 0).sum())"
   ]
  },
  {
   "cell_type": "code",
   "execution_count": 39,
   "id": "1a940e7d-91d3-45a4-b326-6bfbe074896d",
   "metadata": {},
   "outputs": [],
   "source": [
    "emo_keywords = ['충격','경악','폭로','소름','믿기지 않는','눈물','헉','충격적','파문']\n",
    "\n",
    "def emotion_count(title):\n",
    "    return sum([kw in title for kw in emo_keywords])\n",
    "\n",
    "df['emotion_score'] = df['title'].apply(emotion_count)\n"
   ]
  },
  {
   "cell_type": "code",
   "execution_count": 40,
   "id": "aebd361b-7245-4af4-9c50-7327092c4b18",
   "metadata": {},
   "outputs": [
    {
     "name": "stdout",
     "output_type": "stream",
     "text": [
      "              precision    recall  f1-score   support\n",
      "\n",
      "   clickbait       0.16      1.00      0.28      1927\n",
      "      normal       0.82      0.00      0.00      9994\n",
      "\n",
      "    accuracy                           0.16     11921\n",
      "   macro avg       0.49      0.50      0.14     11921\n",
      "weighted avg       0.71      0.16      0.05     11921\n",
      "\n"
     ]
    }
   ],
   "source": [
    "from sklearn.metrics import classification_report\n",
    "\n",
    "# 임계값은 0보다 크면 감정 자극형으로 판단\n",
    "df['pred'] = (df['emotion_score'] > 0).astype(int)\n",
    "\n",
    "print(classification_report(df['label'], df['pred'], target_names=['clickbait', 'normal']))\n"
   ]
  },
  {
   "cell_type": "code",
   "execution_count": 41,
   "id": "680bf9f3-0a9e-463b-9446-3bea4fb1e483",
   "metadata": {},
   "outputs": [
    {
     "data": {
      "image/png": "[encoded data removed]",
      "text/plain": [
       "<Figure size 1000x600 with 1 Axes>"
      ]
     },
     "metadata": {},
     "output_type": "display_data"
    }
   ],
   "source": [
    "import matplotlib.pyplot as plt\n",
    "import seaborn as sns\n",
    "\n",
    "plt.figure(figsize=(10,6))\n",
    "sns.histplot(data=df, x='emotion_score', hue='label', bins=15, palette=['red', 'blue'], multiple='stack')\n",
    "plt.title(\"Emotion Keyword Count Distribution\")\n",
    "plt.xlabel(\"Keyword Match Count\")\n",
    "plt.ylabel(\"Number of Titles\")\n",
    "plt.legend(title='Label', labels=['Clickbait', 'Normal'])\n",
    "plt.grid(True)\n",
    "plt.tight_layout()\n",
    "plt.show()\n"
   ]
  },
  {
   "cell_type": "code",
   "execution_count": 42,
   "id": "886a3ff7-92c2-427c-9f13-a1bf9492d8aa",
   "metadata": {},
   "outputs": [
    {
     "name": "stdout",
     "output_type": "stream",
     "text": [
      "총 샘플 수: 38399\n",
      "클래스 분포:\n",
      "label\n",
      "1    23362\n",
      "0    15037\n",
      "Name: count, dtype: int64\n",
      "\n",
      "[감정 자극형 제목 탐지 결과: 임계값 튜닝]\n",
      "Threshold=0.0, F1-score=0.002\n",
      "Threshold=0.1, F1-score=0.002\n",
      "Threshold=0.2, F1-score=0.002\n",
      "Threshold=0.3, F1-score=0.002\n",
      "Threshold=0.4, F1-score=0.002\n",
      "Threshold=0.5, F1-score=0.002\n",
      "Threshold=0.6, F1-score=0.002\n",
      "Threshold=0.7, F1-score=0.002\n",
      "Threshold=0.8, F1-score=0.002\n",
      "Threshold=0.9, F1-score=0.002\n",
      "\n",
      "[최적 임계값 = 0.0]\n",
      "              precision    recall  f1-score   support\n",
      "\n",
      "   clickbait       0.39      0.99      0.56     15037\n",
      "      normal       0.26      0.00      0.00     23362\n",
      "\n",
      "    accuracy                           0.39     38399\n",
      "   macro avg       0.33      0.50      0.28     38399\n",
      "weighted avg       0.31      0.39      0.22     38399\n",
      "\n"
     ]
    },
    {
     "data": {
      "image/png": "[encoded data removed]",
      "text/plain": [
       "<Figure size 1000x600 with 1 Axes>"
      ]
     },
     "metadata": {},
     "output_type": "display_data"
    }
   ],
   "source": [
    "import os\n",
    "import glob\n",
    "import json\n",
    "import numpy as np\n",
    "import pandas as pd\n",
    "import matplotlib.pyplot as plt\n",
    "import seaborn as sns\n",
    "from sklearn.feature_extraction.text import TfidfVectorizer\n",
    "from sklearn.metrics import classification_report, f1_score\n",
    "\n",
    "# 1. 모든 경로 지정\n",
    "clickbait_dirs = [\n",
    "    \"Sample/Labeling_Data/Part2/Clickbait_Direct/EC\",\n",
    "    \"Sample/Labeling_Data/Part2/Clickbait_Direct/ET\",\n",
    "    \"Sample/Labeling_Data/Part2/Clickbait_Direct/GB\",\n",
    "    \"Sample/Labeling_Data/Part2/Clickbait_Direct/IS\",\n",
    "    \"Sample/Labeling_Data/Part2/Clickbait_Direct/LC\",\n",
    "    \"Sample/Labeling_Data/Part2/Clickbait_Direct/PO\",\n",
    "    \"Sample/Labeling_Data/Part2/Clickbait_Direct/SO\"\n",
    "]\n",
    "\n",
    "nonclickbait_dirs = [\n",
    "    \"Sample/Labeling_Data/Part2/NonClickbait_Auto/LC\",\n",
    "    \"Sample/Labeling_Data/Part2/NonClickbait_Auto/IS\",\n",
    "    \"Sample/Labeling_Data/Part2/NonClickbait_Auto/EC\"\n",
    "]\n",
    "\n",
    "# 2. 데이터 로딩\n",
    "paths = []\n",
    "for d in clickbait_dirs:\n",
    "    paths += [(p, 0) for p in glob.glob(os.path.join(d, \"*.json\"))]\n",
    "for d in nonclickbait_dirs:\n",
    "    paths += [(p, 1) for p in glob.glob(os.path.join(d, \"*.json\"))]\n",
    "\n",
    "data = []\n",
    "for path, lbl in paths:\n",
    "    with open(path, 'r', encoding='utf-8') as f:\n",
    "        raw = json.load(f)\n",
    "    title = raw['sourceDataInfo']['newsTitle']\n",
    "    data.append((title, lbl))\n",
    "\n",
    "df = pd.DataFrame(data, columns=['title', 'label'])\n",
    "print(f\"총 샘플 수: {len(df)}\\n클래스 분포:\\n{df['label'].value_counts()}\\n\")\n",
    "\n",
    "# 3. 감정 키워드 기반 TF-IDF 점수 계산\n",
    "emo_keywords = ['충격', '경악', '폭로', '소름', '믿기지 않는', '눈물', '헉', '충격적', '파문']\n",
    "tfidf = TfidfVectorizer(vocabulary=emo_keywords)\n",
    "tfidf_matrix = tfidf.fit_transform(df['title'])\n",
    "df['emotion_score'] = tfidf_matrix.sum(axis=1).A1\n",
    "\n",
    "# 4. 임계값 튜닝\n",
    "thresholds = np.arange(0.0, 1.0, 0.1)\n",
    "print(\"[감정 자극형 제목 탐지 결과: 임계값 튜닝]\")\n",
    "best_f1, best_thr = 0, 0\n",
    "for t in thresholds:\n",
    "    pred = (df['emotion_score'] > t).astype(int)\n",
    "    f1 = f1_score(df['label'], pred)\n",
    "    print(f\"Threshold={t:.1f}, F1-score={f1:.3f}\")\n",
    "    if f1 > best_f1:\n",
    "        best_f1, best_thr = f1, t\n",
    "\n",
    "# 5. 최적 threshold로 평가\n",
    "df['pred'] = (df['emotion_score'] > best_thr).astype(int)\n",
    "print(f\"\\n[최적 임계값 = {best_thr:.1f}]\")\n",
    "print(classification_report(df['label'], df['pred'], target_names=['clickbait', 'normal']))\n",
    "\n",
    "# 6. 시각화\n",
    "plt.figure(figsize=(10, 6))\n",
    "sns.histplot(data=df, x='emotion_score', hue='label', bins=30, kde=True, palette=['red', 'blue'])\n",
    "plt.axvline(x=best_thr, color='gray', linestyle='--', label=f'Threshold = {best_thr:.1f}')\n",
    "plt.title(\"Emotion Score Distribution (TF-IDF Sum Based)\")\n",
    "plt.xlabel(\"Emotion Score\")\n",
    "plt.ylabel(\"Count\")\n",
    "plt.legend(title='Label', labels=['Clickbait', 'Normal'])\n",
    "plt.grid(True)\n",
    "plt.tight_layout()\n",
    "plt.show()"
   ]
  },
  {
   "cell_type": "code",
   "execution_count": 49,
   "id": "a48b6bed-17d7-4c92-9950-882b86fcbc04",
   "metadata": {},
   "outputs": [
    {
     "name": "stdout",
     "output_type": "stream",
     "text": [
      "✅ 전체 샘플 수: 38399\n",
      "📊 클래스 분포:\n",
      " label\n",
      "1    23362\n",
      "0    15037\n",
      "Name: count, dtype: int64\n",
      "\n",
      "📋 최종 평가 결과 (Logistic Regression)\n",
      "              precision    recall  f1-score   support\n",
      "\n",
      "   clickbait       0.67      0.68      0.68      3007\n",
      "      normal       0.79      0.78      0.79      4673\n",
      "\n",
      "    accuracy                           0.74      7680\n",
      "   macro avg       0.73      0.73      0.73      7680\n",
      "weighted avg       0.75      0.74      0.74      7680\n",
      "\n"
     ]
    }
   ],
   "source": [
    "import os\n",
    "import glob\n",
    "import json\n",
    "import pandas as pd\n",
    "from sklearn.model_selection import train_test_split\n",
    "from sklearn.feature_extraction.text import TfidfVectorizer\n",
    "from sklearn.linear_model import LogisticRegression\n",
    "from sklearn.metrics import classification_report\n",
    "\n",
    "# 1. 경로 설정 및 JSON 로딩\n",
    "data_dirs = [\n",
    "    \"Sample/Labeling_Data/Part2/Clickbait_Direct/EC\",\n",
    "    \"Sample/Labeling_Data/Part2/Clickbait_Direct/ET\",\n",
    "    \"Sample/Labeling_Data/Part2/Clickbait_Direct/GB\",\n",
    "    \"Sample/Labeling_Data/Part2/Clickbait_Direct/IS\",\n",
    "    \"Sample/Labeling_Data/Part2/Clickbait_Direct/LC\",\n",
    "    \"Sample/Labeling_Data/Part2/Clickbait_Direct/PO\",\n",
    "    \"Sample/Labeling_Data/Part2/Clickbait_Direct/SO\",\n",
    "    \"Sample/Labeling_Data/Part2/NonClickbait_Auto/LC\",\n",
    "    \"Sample/Labeling_Data/Part2/NonClickbait_Auto/IS\",\n",
    "    \"Sample/Labeling_Data/Part2/NonClickbait_Auto/EC\"\n",
    "]\n",
    "\n",
    "paths = []\n",
    "for d in data_dirs:\n",
    "    paths += glob.glob(os.path.join(d, \"*.json\"))\n",
    "\n",
    "# 2. JSON에서 제목과 useType 추출\n",
    "data = []\n",
    "for path in paths:\n",
    "    try:\n",
    "        with open(path, 'r', encoding='utf-8') as f:\n",
    "            raw = json.load(f)\n",
    "        title = raw['sourceDataInfo']['newsTitle']\n",
    "        label = raw['sourceDataInfo'].get('useType', None)\n",
    "        if label in [0, 1] and isinstance(title, str):\n",
    "            data.append((title.strip(), label))\n",
    "    except Exception as e:\n",
    "        print(f\"⚠️ {path} 로딩 오류: {e}\")\n",
    "\n",
    "df = pd.DataFrame(data, columns=[\"title\", \"label\"])\n",
    "print(f\"✅ 전체 샘플 수: {len(df)}\")\n",
    "print(\"📊 클래스 분포:\\n\", df[\"label\"].value_counts())\n",
    "\n",
    "# 3. 학습/검증 분할\n",
    "X_train, X_test, y_train, y_test = train_test_split(df[\"title\"], df[\"label\"], test_size=0.2, stratify=df[\"label\"], random_state=42)\n",
    "\n",
    "# 4. TF-IDF 벡터화 (1-gram + 2-gram)\n",
    "vectorizer = TfidfVectorizer(max_features=10000, ngram_range=(1, 2))\n",
    "X_train_vec = vectorizer.fit_transform(X_train)\n",
    "X_test_vec = vectorizer.transform(X_test)\n",
    "\n",
    "# 5. 로지스틱 회귀 분류기 학습\n",
    "model = LogisticRegression(max_iter=1000, class_weight='balanced')\n",
    "\n",
    "model.fit(X_train_vec, y_train)\n",
    "\n",
    "# 6. 예측 및 평가\n",
    "y_pred = model.predict(X_test_vec)\n",
    "print(\"\\n📋 최종 평가 결과 (Logistic Regression)\")\n",
    "print(classification_report(y_test, y_pred, target_names=[\"clickbait\", \"normal\"]))"
   ]
  },
  {
   "cell_type": "code",
   "execution_count": 50,
   "id": "df356171-24f1-47f4-9329-7b046f2bc09c",
   "metadata": {},
   "outputs": [
    {
     "data": {
      "image/png": "[encoded data removed]",
      "text/plain": [
       "<Figure size 640x480 with 1 Axes>"
      ]
     },
     "metadata": {},
     "output_type": "display_data"
    }
   ],
   "source": [
    "import matplotlib.pyplot as plt\n",
    "\n",
    "# 1. 결과 집계\n",
    "from collections import Counter\n",
    "results = pd.DataFrame({'actual': y_test, 'predicted': y_pred})\n",
    "summary = results.groupby(['actual', 'predicted']).size().unstack(fill_value=0)\n",
    "\n",
    "# 2. 막대그래프 시각화\n",
    "summary.plot(kind='bar', stacked=True, color=['red', 'blue'])\n",
    "plt.title(\"Real label vs Predict Result\")\n",
    "plt.xlabel(\"Real Label (0 = Clickbait, 1 = Normal)\")\n",
    "plt.ylabel(\"News number\")\n",
    "plt.xticks(ticks=[0, 1], labels=['Clickbait', 'Normal'], rotation=0)\n",
    "plt.legend(title='Predict Reult', labels=['Clickbait', 'Normal'])\n",
    "plt.grid(axis='y', linestyle='--', alpha=0.5)\n",
    "plt.tight_layout()\n",
    "plt.show()"
   ]
  },
  {
   "cell_type": "code",
   "execution_count": 26,
   "id": "266f152b-e557-42a7-aa3f-3fdabbab8a26",
   "metadata": {},
   "outputs": [
    {
     "name": "stderr",
     "output_type": "stream",
     "text": [
      "Processing: 100%|███████████████████████████| 8320/8320 [04:18<00:00, 32.15it/s]"
     ]
    },
    {
     "name": "stdout",
     "output_type": "stream",
     "text": [
      "\n",
      "총 기사 수: 8320\n",
      "\n",
      "📊 유사도 기반 제목-본문 불일치 탐지 결과:\n",
      "Threshold = 0.10 → F1 = 0.0899\n",
      "Threshold = 0.20 → F1 = 0.2267\n",
      "Threshold = 0.30 → F1 = 0.3563\n",
      "Threshold = 0.40 → F1 = 0.4477\n",
      "Threshold = 0.50 → F1 = 0.5284\n",
      "Threshold = 0.60 → F1 = 0.5993\n",
      "Threshold = 0.70 → F1 = 0.6599\n",
      "Threshold = 0.80 → F1 = 0.7032\n",
      "Threshold = 0.90 → F1 = 0.7172\n",
      "\n",
      "✅ 최적 임계값 = 0.90 (F1 = 0.7172)\n",
      "\n",
      "📋 최종 평가 결과:\n",
      "              precision    recall  f1-score   support\n",
      "\n",
      "   clickbait       0.85      0.00      0.01      3673\n",
      "      normal       0.56      1.00      0.72      4647\n",
      "\n",
      "    accuracy                           0.56      8320\n",
      "   macro avg       0.70      0.50      0.36      8320\n",
      "weighted avg       0.69      0.56      0.40      8320\n",
      "\n"
     ]
    },
    {
     "name": "stderr",
     "output_type": "stream",
     "text": [
      "\n"
     ]
    }
   ],
   "source": [
    "import os\n",
    "import glob\n",
    "import json\n",
    "import pandas as pd\n",
    "import numpy as np\n",
    "from sklearn.metrics.pairwise import cosine_similarity\n",
    "from sentence_transformers import SentenceTransformer\n",
    "from sklearn.metrics import classification_report\n",
    "from tqdm import tqdm\n",
    "\n",
    "# 1. 모델 로딩 (멀티언어 지원 BERT 모델)\n",
    "model = SentenceTransformer('sentence-transformers/paraphrase-multilingual-MiniLM-L12-v2')\n",
    "\n",
    "# 2. 데이터 경로 설정\n",
    "data_dirs = [\n",
    "    \"Sample/Labeling_Data/Part2/Clickbait_Direct/EC\",\n",
    "    \"Sample/Labeling_Data/Part2/Clickbait_Direct/ET\",\n",
    "    \"Sample/Labeling_Data/Part2/NonClickbait_Auto/EC\",\n",
    "    \"Sample/Labeling_Data/Part2/NonClickbait_Auto/ET\"\n",
    "]\n",
    "\n",
    "paths = []\n",
    "for d in data_dirs:\n",
    "    paths += glob.glob(os.path.join(d, \"*.json\"))\n",
    "\n",
    "# 3. 제목-본문 유사도 계산\n",
    "records = []\n",
    "for path in tqdm(paths, desc=\"Processing\"):\n",
    "    try:\n",
    "        with open(path, \"r\", encoding=\"utf-8\") as f:\n",
    "            raw = json.load(f)\n",
    "        title = raw['sourceDataInfo'].get('newsTitle', '').strip()\n",
    "        content = raw['sourceDataInfo'].get('newsContent', '').strip()\n",
    "        label = raw['sourceDataInfo'].get('useType', None)  # 0: clickbait, 1: normal\n",
    "        if not title or not content or label not in [0, 1]:\n",
    "            continue\n",
    "        # BERT 임베딩\n",
    "        embeddings = model.encode([title, content])\n",
    "        sim = cosine_similarity([embeddings[0]], [embeddings[1]])[0][0]\n",
    "        records.append({'title': title, 'content': content, 'similarity': sim, 'label': label})\n",
    "    except Exception as e:\n",
    "        print(f\"[ERROR] {path}: {e}\")\n",
    "\n",
    "df = pd.DataFrame(records)\n",
    "print(f\"\\n총 기사 수: {len(df)}\")\n",
    "\n",
    "# 4. 임계값 튜닝 및 평가\n",
    "from sklearn.metrics import f1_score\n",
    "\n",
    "print(\"\\n📊 유사도 기반 제목-본문 불일치 탐지 결과:\")\n",
    "best_f1 = 0\n",
    "best_thr = 0\n",
    "for threshold in np.arange(0.1, 0.91, 0.1):\n",
    "    df['pred'] = (df['similarity'] < threshold).astype(int)  # 유사도 낮으면 clickbait\n",
    "    f1 = f1_score(df['label'], df['pred'])\n",
    "    print(f\"Threshold = {threshold:.2f} → F1 = {f1:.4f}\")\n",
    "    if f1 > best_f1:\n",
    "        best_f1 = f1\n",
    "        best_thr = threshold\n",
    "\n",
    "# 5. 최종 평가\n",
    "df['pred'] = (df['similarity'] < best_thr).astype(int)\n",
    "print(f\"\\n✅ 최적 임계값 = {best_thr:.2f} (F1 = {best_f1:.4f})\")\n",
    "print(\"\\n📋 최종 평가 결과:\")\n",
    "print(classification_report(df['label'], df['pred'], target_names=[\"clickbait\", \"normal\"]))"
   ]
  },
  {
   "cell_type": "code",
   "execution_count": 23,
   "id": "48b10f0b-1ad0-4c18-b79a-4191f204dc5c",
   "metadata": {},
   "outputs": [
    {
     "name": "stderr",
     "output_type": "stream",
     "text": [
      "/tmp/ipykernel_308407/1736015061.py:12: UserWarning: Glyph 44592 (\\N{HANGUL SYLLABLE GI}) missing from font(s) DejaVu Sans.\n",
      "  plt.tight_layout()\n",
      "/tmp/ipykernel_308407/1736015061.py:12: UserWarning: Glyph 49324 (\\N{HANGUL SYLLABLE SA}) missing from font(s) DejaVu Sans.\n",
      "  plt.tight_layout()\n",
      "/tmp/ipykernel_308407/1736015061.py:12: UserWarning: Glyph 49688 (\\N{HANGUL SYLLABLE SU}) missing from font(s) DejaVu Sans.\n",
      "  plt.tight_layout()\n",
      "/tmp/ipykernel_308407/1736015061.py:12: UserWarning: Glyph 128201 (\\N{CHART WITH DOWNWARDS TREND}) missing from font(s) DejaVu Sans.\n",
      "  plt.tight_layout()\n",
      "/tmp/ipykernel_308407/1736015061.py:12: UserWarning: Glyph 51228 (\\N{HANGUL SYLLABLE JE}) missing from font(s) DejaVu Sans.\n",
      "  plt.tight_layout()\n",
      "/tmp/ipykernel_308407/1736015061.py:12: UserWarning: Glyph 47785 (\\N{HANGUL SYLLABLE MOG}) missing from font(s) DejaVu Sans.\n",
      "  plt.tight_layout()\n",
      "/tmp/ipykernel_308407/1736015061.py:12: UserWarning: Glyph 48376 (\\N{HANGUL SYLLABLE BON}) missing from font(s) DejaVu Sans.\n",
      "  plt.tight_layout()\n",
      "/tmp/ipykernel_308407/1736015061.py:12: UserWarning: Glyph 47928 (\\N{HANGUL SYLLABLE MUN}) missing from font(s) DejaVu Sans.\n",
      "  plt.tight_layout()\n",
      "/tmp/ipykernel_308407/1736015061.py:12: UserWarning: Glyph 51032 (\\N{HANGUL SYLLABLE YI}) missing from font(s) DejaVu Sans.\n",
      "  plt.tight_layout()\n",
      "/tmp/ipykernel_308407/1736015061.py:12: UserWarning: Glyph 48120 (\\N{HANGUL SYLLABLE MI}) missing from font(s) DejaVu Sans.\n",
      "  plt.tight_layout()\n",
      "/tmp/ipykernel_308407/1736015061.py:12: UserWarning: Glyph 50976 (\\N{HANGUL SYLLABLE YU}) missing from font(s) DejaVu Sans.\n",
      "  plt.tight_layout()\n",
      "/tmp/ipykernel_308407/1736015061.py:12: UserWarning: Glyph 46020 (\\N{HANGUL SYLLABLE DO}) missing from font(s) DejaVu Sans.\n",
      "  plt.tight_layout()\n",
      "/tmp/ipykernel_308407/1736015061.py:12: UserWarning: Glyph 48516 (\\N{HANGUL SYLLABLE BUN}) missing from font(s) DejaVu Sans.\n",
      "  plt.tight_layout()\n",
      "/tmp/ipykernel_308407/1736015061.py:12: UserWarning: Glyph 54252 (\\N{HANGUL SYLLABLE PO}) missing from font(s) DejaVu Sans.\n",
      "  plt.tight_layout()\n",
      "/tmp/ipykernel_308407/1736015061.py:12: UserWarning: Glyph 49892 (\\N{HANGUL SYLLABLE SIL}) missing from font(s) DejaVu Sans.\n",
      "  plt.tight_layout()\n",
      "/tmp/ipykernel_308407/1736015061.py:12: UserWarning: Glyph 47112 (\\N{HANGUL SYLLABLE RE}) missing from font(s) DejaVu Sans.\n",
      "  plt.tight_layout()\n",
      "/tmp/ipykernel_308407/1736015061.py:12: UserWarning: Glyph 51060 (\\N{HANGUL SYLLABLE I}) missing from font(s) DejaVu Sans.\n",
      "  plt.tight_layout()\n",
      "/tmp/ipykernel_308407/1736015061.py:12: UserWarning: Glyph 48660 (\\N{HANGUL SYLLABLE BEUL}) missing from font(s) DejaVu Sans.\n",
      "  plt.tight_layout()\n",
      "/home/linux1360/venv/lib/python3.12/site-packages/IPython/core/pylabtools.py:170: UserWarning: Glyph 44592 (\\N{HANGUL SYLLABLE GI}) missing from font(s) DejaVu Sans.\n",
      "  fig.canvas.print_figure(bytes_io, **kw)\n",
      "/home/linux1360/venv/lib/python3.12/site-packages/IPython/core/pylabtools.py:170: UserWarning: Glyph 49324 (\\N{HANGUL SYLLABLE SA}) missing from font(s) DejaVu Sans.\n",
      "  fig.canvas.print_figure(bytes_io, **kw)\n",
      "/home/linux1360/venv/lib/python3.12/site-packages/IPython/core/pylabtools.py:170: UserWarning: Glyph 49688 (\\N{HANGUL SYLLABLE SU}) missing from font(s) DejaVu Sans.\n",
      "  fig.canvas.print_figure(bytes_io, **kw)\n",
      "/home/linux1360/venv/lib/python3.12/site-packages/IPython/core/pylabtools.py:170: UserWarning: Glyph 128201 (\\N{CHART WITH DOWNWARDS TREND}) missing from font(s) DejaVu Sans.\n",
      "  fig.canvas.print_figure(bytes_io, **kw)\n",
      "/home/linux1360/venv/lib/python3.12/site-packages/IPython/core/pylabtools.py:170: UserWarning: Glyph 51228 (\\N{HANGUL SYLLABLE JE}) missing from font(s) DejaVu Sans.\n",
      "  fig.canvas.print_figure(bytes_io, **kw)\n",
      "/home/linux1360/venv/lib/python3.12/site-packages/IPython/core/pylabtools.py:170: UserWarning: Glyph 47785 (\\N{HANGUL SYLLABLE MOG}) missing from font(s) DejaVu Sans.\n",
      "  fig.canvas.print_figure(bytes_io, **kw)\n",
      "/home/linux1360/venv/lib/python3.12/site-packages/IPython/core/pylabtools.py:170: UserWarning: Glyph 48376 (\\N{HANGUL SYLLABLE BON}) missing from font(s) DejaVu Sans.\n",
      "  fig.canvas.print_figure(bytes_io, **kw)\n",
      "/home/linux1360/venv/lib/python3.12/site-packages/IPython/core/pylabtools.py:170: UserWarning: Glyph 47928 (\\N{HANGUL SYLLABLE MUN}) missing from font(s) DejaVu Sans.\n",
      "  fig.canvas.print_figure(bytes_io, **kw)\n",
      "/home/linux1360/venv/lib/python3.12/site-packages/IPython/core/pylabtools.py:170: UserWarning: Glyph 51032 (\\N{HANGUL SYLLABLE YI}) missing from font(s) DejaVu Sans.\n",
      "  fig.canvas.print_figure(bytes_io, **kw)\n",
      "/home/linux1360/venv/lib/python3.12/site-packages/IPython/core/pylabtools.py:170: UserWarning: Glyph 48120 (\\N{HANGUL SYLLABLE MI}) missing from font(s) DejaVu Sans.\n",
      "  fig.canvas.print_figure(bytes_io, **kw)\n",
      "/home/linux1360/venv/lib/python3.12/site-packages/IPython/core/pylabtools.py:170: UserWarning: Glyph 50976 (\\N{HANGUL SYLLABLE YU}) missing from font(s) DejaVu Sans.\n",
      "  fig.canvas.print_figure(bytes_io, **kw)\n",
      "/home/linux1360/venv/lib/python3.12/site-packages/IPython/core/pylabtools.py:170: UserWarning: Glyph 46020 (\\N{HANGUL SYLLABLE DO}) missing from font(s) DejaVu Sans.\n",
      "  fig.canvas.print_figure(bytes_io, **kw)\n",
      "/home/linux1360/venv/lib/python3.12/site-packages/IPython/core/pylabtools.py:170: UserWarning: Glyph 48516 (\\N{HANGUL SYLLABLE BUN}) missing from font(s) DejaVu Sans.\n",
      "  fig.canvas.print_figure(bytes_io, **kw)\n",
      "/home/linux1360/venv/lib/python3.12/site-packages/IPython/core/pylabtools.py:170: UserWarning: Glyph 54252 (\\N{HANGUL SYLLABLE PO}) missing from font(s) DejaVu Sans.\n",
      "  fig.canvas.print_figure(bytes_io, **kw)\n",
      "/home/linux1360/venv/lib/python3.12/site-packages/IPython/core/pylabtools.py:170: UserWarning: Glyph 49892 (\\N{HANGUL SYLLABLE SIL}) missing from font(s) DejaVu Sans.\n",
      "  fig.canvas.print_figure(bytes_io, **kw)\n",
      "/home/linux1360/venv/lib/python3.12/site-packages/IPython/core/pylabtools.py:170: UserWarning: Glyph 47112 (\\N{HANGUL SYLLABLE RE}) missing from font(s) DejaVu Sans.\n",
      "  fig.canvas.print_figure(bytes_io, **kw)\n",
      "/home/linux1360/venv/lib/python3.12/site-packages/IPython/core/pylabtools.py:170: UserWarning: Glyph 51060 (\\N{HANGUL SYLLABLE I}) missing from font(s) DejaVu Sans.\n",
      "  fig.canvas.print_figure(bytes_io, **kw)\n",
      "/home/linux1360/venv/lib/python3.12/site-packages/IPython/core/pylabtools.py:170: UserWarning: Glyph 48660 (\\N{HANGUL SYLLABLE BEUL}) missing from font(s) DejaVu Sans.\n",
      "  fig.canvas.print_figure(bytes_io, **kw)\n"
     ]
    },
    {
     "data": {
      "image/png": "[encoded data removed]",
      "text/plain": [
       "<Figure size 1000x600 with 1 Axes>"
      ]
     },
     "metadata": {},
     "output_type": "display_data"
    }
   ],
   "source": [
    "import matplotlib.pyplot as plt\n",
    "import seaborn as sns\n",
    "\n",
    "plt.figure(figsize=(10, 6))\n",
    "sns.histplot(data=df, x=\"similarity\", hue=\"label\", bins=30, kde=True, palette=[\"red\", \"blue\"])\n",
    "plt.axvline(x=best_thr, color=\"gray\", linestyle=\"--\", label=f\"Threshold = {best_thr:.2f}\")\n",
    "plt.title(\"📉 제목-본문 의미 유사도 분포\")\n",
    "plt.xlabel(\"Cosine Similarity (title vs content)\")\n",
    "plt.ylabel(\"기사 수\")\n",
    "plt.legend(title=\"실제 레이블\", labels=[\"Clickbait\", \"Normal\"])\n",
    "plt.grid(True, linestyle='--', alpha=0.4)\n",
    "plt.tight_layout()\n",
    "plt.show()"
   ]
  },
  {
   "cell_type": "code",
   "execution_count": null,
   "id": "6320a6f7-86c8-4405-b45e-719738912db8",
   "metadata": {},
   "outputs": [],
   "source": [
    "conf = df.groupby(['label', 'pred']).size().unstack(fill_value=0)\n",
    "conf.columns = ['Pred: Clickbait', 'Pred: Normal']\n",
    "conf.index = ['Actual: Clickbait', 'Actual: Normal']\n",
    "\n",
    "conf.plot(kind=\"bar\", stacked=True, color=[\"red\", \"blue\"])\n",
    "plt.title(\"🧮 실제 vs 예측 결과 (불일치형 탐지)\")\n",
    "plt.xlabel(\"실제 레이블\")\n",
    "plt.ylabel(\"기사 수\")\n",
    "plt.xticks(rotation=0)\n",
    "plt.legend(title=\"예측 결과\")\n",
    "plt.grid(axis='y', linestyle='--', alpha=0.5)\n",
    "plt.tight_layout()\n",
    "plt.show()\n"
   ]
  },
  {
   "cell_type": "code",
   "execution_count": 40,
   "id": "fc38e99e-ca61-4700-9418-173abfadd07d",
   "metadata": {},
   "outputs": [
    {
     "name": "stderr",
     "output_type": "stream",
     "text": [
      "📦 Loading data: 100%|███████████████████| 8320/8320 [00:00<00:00, 14124.93it/s]\n",
      "Some weights of BertForSequenceClassification were not initialized from the model checkpoint at bert-base-multilingual-cased and are newly initialized: ['classifier.bias', 'classifier.weight']\n",
      "You should probably TRAIN this model on a down-stream task to be able to use it for predictions and inference.\n"
     ]
    },
    {
     "name": "stdout",
     "output_type": "stream",
     "text": [
      "\n",
      "🌟 Epoch 1\n"
     ]
    },
    {
     "name": "stderr",
     "output_type": "stream",
     "text": [
      "🔧 Training: 100%|████████████████████████████| 416/416 [01:16<00:00,  5.45it/s]\n"
     ]
    },
    {
     "name": "stdout",
     "output_type": "stream",
     "text": [
      "Loss: 0.4259\n",
      "\n",
      "📋 평가 결과:\n",
      "              precision    recall  f1-score   support\n",
      "\n",
      "   clickbait       0.94      0.69      0.80       736\n",
      "      normal       0.80      0.96      0.87       928\n",
      "\n",
      "    accuracy                           0.84      1664\n",
      "   macro avg       0.87      0.83      0.83      1664\n",
      "weighted avg       0.86      0.84      0.84      1664\n",
      "\n",
      "\n",
      "🌟 Epoch 2\n"
     ]
    },
    {
     "name": "stderr",
     "output_type": "stream",
     "text": [
      "🔧 Training: 100%|████████████████████████████| 416/416 [01:17<00:00,  5.39it/s]\n"
     ]
    },
    {
     "name": "stdout",
     "output_type": "stream",
     "text": [
      "Loss: 0.3381\n",
      "\n",
      "📋 평가 결과:\n",
      "              precision    recall  f1-score   support\n",
      "\n",
      "   clickbait       0.88      0.79      0.83       736\n",
      "      normal       0.84      0.91      0.88       928\n",
      "\n",
      "    accuracy                           0.86      1664\n",
      "   macro avg       0.86      0.85      0.85      1664\n",
      "weighted avg       0.86      0.86      0.86      1664\n",
      "\n",
      "\n",
      "🌟 Epoch 3\n"
     ]
    },
    {
     "name": "stderr",
     "output_type": "stream",
     "text": [
      "🔧 Training: 100%|████████████████████████████| 416/416 [01:19<00:00,  5.25it/s]\n"
     ]
    },
    {
     "name": "stdout",
     "output_type": "stream",
     "text": [
      "Loss: 0.2974\n",
      "\n",
      "📋 평가 결과:\n",
      "              precision    recall  f1-score   support\n",
      "\n",
      "   clickbait       0.85      0.83      0.84       736\n",
      "      normal       0.87      0.89      0.88       928\n",
      "\n",
      "    accuracy                           0.86      1664\n",
      "   macro avg       0.86      0.86      0.86      1664\n",
      "weighted avg       0.86      0.86      0.86      1664\n",
      "\n"
     ]
    }
   ],
   "source": [
    "import os, glob, json, torch\n",
    "import pandas as pd\n",
    "from torch.utils.data import Dataset, DataLoader, random_split\n",
    "from transformers import BertTokenizer, BertForSequenceClassification\n",
    "from torch.optim import AdamW \n",
    "from sklearn.metrics import classification_report\n",
    "from tqdm import tqdm\n",
    "\n",
    "# GPU 설정\n",
    "device = torch.device(\"cuda\" if torch.cuda.is_available() else \"cpu\")\n",
    "\n",
    "# 1. 데이터 로딩 및 전처리\n",
    "class NewsDataset(Dataset):\n",
    "    def __init__(self, df, tokenizer, max_len=128):\n",
    "        self.tokenizer = tokenizer\n",
    "        self.texts = df[\"text\"].tolist()\n",
    "        self.labels = df[\"label\"].tolist()\n",
    "        self.max_len = max_len\n",
    "\n",
    "    def __len__(self):\n",
    "        return len(self.labels)\n",
    "\n",
    "    def __getitem__(self, idx):\n",
    "        encoding = self.tokenizer(\n",
    "            self.texts[idx],\n",
    "            max_length=self.max_len,\n",
    "            padding='max_length',\n",
    "            truncation=True,\n",
    "            return_tensors='pt'\n",
    "        )\n",
    "        return {\n",
    "            'input_ids': encoding['input_ids'].squeeze(0),\n",
    "            'attention_mask': encoding['attention_mask'].squeeze(0),\n",
    "            'label': torch.tensor(self.labels[idx])\n",
    "        }\n",
    "\n",
    "# 데이터 구성\n",
    "def load_data():\n",
    "    dirs = [\n",
    "        \"Sample/Labeling_Data/Part2/Clickbait_Direct/EC\",\n",
    "        \"Sample/Labeling_Data/Part2/Clickbait_Direct/ET\",\n",
    "        \"Sample/Labeling_Data/Part2/NonClickbait_Auto/EC\",\n",
    "        \"Sample/Labeling_Data/Part2/NonClickbait_Auto/ET\"\n",
    "    ]\n",
    "    paths = [p for d in dirs for p in glob.glob(os.path.join(d, \"*.json\"))]\n",
    "    records = []\n",
    "    for path in tqdm(paths, desc=\"📦 Loading data\"):\n",
    "        try:\n",
    "            with open(path, 'r', encoding='utf-8') as f:\n",
    "                raw = json.load(f)\n",
    "            title = raw['sourceDataInfo']['newsTitle'].strip()\n",
    "            label = raw['sourceDataInfo']['useType']\n",
    "            sents = raw['sourceDataInfo'].get('sentenceInfo', [])\n",
    "            if not title or label not in [0, 1] or not sents:\n",
    "                continue\n",
    "            body = \" \".join([s['sentenceContent'] for s in sents[:2]])\n",
    "            text = f\"{title} [SEP] {body}\"\n",
    "            records.append((text, label))\n",
    "        except:\n",
    "            continue\n",
    "    df = pd.DataFrame(records, columns=[\"text\", \"label\"])\n",
    "    return df\n",
    "\n",
    "# 2. 데이터 준비\n",
    "tokenizer = BertTokenizer.from_pretrained(\"bert-base-multilingual-cased\")\n",
    "df = load_data()\n",
    "train_size = int(0.8 * len(df))\n",
    "train_df, val_df = random_split(df, [train_size, len(df) - train_size])\n",
    "\n",
    "train_ds = NewsDataset(train_df.dataset.iloc[train_df.indices], tokenizer)\n",
    "val_ds = NewsDataset(val_df.dataset.iloc[val_df.indices], tokenizer)\n",
    "\n",
    "train_loader = DataLoader(train_ds, batch_size=16, shuffle=True)\n",
    "val_loader = DataLoader(val_ds, batch_size=32)\n",
    "\n",
    "# 3. 모델 로딩\n",
    "model = BertForSequenceClassification.from_pretrained(\"bert-base-multilingual-cased\", num_labels=2).to(device)\n",
    "optimizer = AdamW(model.parameters(), lr=2e-5)\n",
    "\n",
    "# 4. 학습 루프\n",
    "def train_epoch():\n",
    "    model.train()\n",
    "    total_loss = 0\n",
    "    for batch in tqdm(train_loader, desc=\"🔧 Training\"):\n",
    "        optimizer.zero_grad()\n",
    "        inputs = {k: v.to(device) for k, v in batch.items() if k != 'label'}\n",
    "        outputs = model(**inputs, labels=batch['label'].to(device))\n",
    "        loss = outputs.loss\n",
    "        loss.backward()\n",
    "        optimizer.step()\n",
    "        total_loss += loss.item()\n",
    "    return total_loss / len(train_loader)\n",
    "\n",
    "# 5. 평가 함수\n",
    "def evaluate():\n",
    "    model.eval()\n",
    "    all_preds, all_labels = [], []\n",
    "    with torch.no_grad():\n",
    "        for batch in val_loader:\n",
    "            inputs = {k: v.to(device) for k, v in batch.items() if k != 'label'}\n",
    "            outputs = model(**inputs)\n",
    "            preds = torch.argmax(outputs.logits, dim=1).cpu().numpy()\n",
    "            labels = batch['label'].cpu().numpy()\n",
    "            all_preds.extend(preds)\n",
    "            all_labels.extend(labels)\n",
    "    print(\"\\n📋 평가 결과:\")\n",
    "    print(classification_report(all_labels, all_preds, target_names=[\"clickbait\", \"normal\"]))\n",
    "\n",
    "# 6. 실행\n",
    "for epoch in range(1, 4):\n",
    "    print(f\"\\n🌟 Epoch {epoch}\")\n",
    "    loss = train_epoch()\n",
    "    print(f\"Loss: {loss:.4f}\")\n",
    "    evaluate()\n"
   ]
  },
  {
   "cell_type": "code",
   "execution_count": 43,
   "id": "e15df924-4fe9-4c68-acd3-23d46a5a294d",
   "metadata": {},
   "outputs": [],
   "source": [
    "model.eval()\n",
    "y_true, y_pred = [], []\n",
    "\n",
    "with torch.no_grad():\n",
    "    for batch in val_loader:\n",
    "        input_ids = batch['input_ids'].to(device)\n",
    "        attention_mask = batch['attention_mask'].to(device)\n",
    "        labels = batch['label'].to(device)\n",
    "\n",
    "        outputs = model(input_ids=input_ids, attention_mask=attention_mask)\n",
    "        preds = torch.argmax(outputs.logits, dim=1)\n",
    "\n",
    "        y_true.extend(labels.cpu().numpy())\n",
    "        y_pred.extend(preds.cpu().numpy())\n"
   ]
  },
  {
   "cell_type": "code",
   "execution_count": 47,
   "id": "915fe8e6-526e-473d-ae0b-0eaa54da475d",
   "metadata": {},
   "outputs": [
    {
     "data": {
      "image/png": "[encoded data removed]",
      "text/plain": [
       "<Figure size 600x500 with 2 Axes>"
      ]
     },
     "metadata": {},
     "output_type": "display_data"
    }
   ],
   "source": [
    "from sklearn.metrics import confusion_matrix\n",
    "import matplotlib.pyplot as plt\n",
    "import seaborn as sns\n",
    "\n",
    "cm = confusion_matrix(y_true, y_pred)\n",
    "\n",
    "plt.figure(figsize=(6, 5))\n",
    "sns.heatmap(cm, annot=True, fmt='d', cmap='Blues',\n",
    "            xticklabels=['Predicted: Clickbait', 'Predicted: Normal'],\n",
    "            yticklabels=['Actual: Clickbait', 'Actual: Normal'])\n",
    "plt.title(\"Confusion Matrix\")\n",
    "plt.xlabel(\"Predicted Label\")\n",
    "plt.ylabel(\"True Label\")\n",
    "plt.tight_layout()\n",
    "plt.show()"
   ]
  },
  {
   "cell_type": "code",
   "execution_count": 46,
   "id": "32e2e098-ca27-4c57-91f6-712c00bc5d61",
   "metadata": {},
   "outputs": [
    {
     "name": "stderr",
     "output_type": "stream",
     "text": [
      "/tmp/ipykernel_308407/164469848.py:12: FutureWarning: \n",
      "\n",
      "Passing `palette` without assigning `hue` is deprecated and will be removed in v0.14.0. Assign the `x` variable to `hue` and set `legend=False` for the same effect.\n",
      "\n",
      "  sns.barplot(x=list(metrics.keys()), y=list(metrics.values()), palette=\"viridis\")\n"
     ]
    },
    {
     "data": {
      "image/png": "[encoded data removed]",
      "text/plain": [
       "<Figure size 700x400 with 1 Axes>"
      ]
     },
     "metadata": {},
     "output_type": "display_data"
    }
   ],
   "source": [
    "from sklearn.metrics import precision_score, recall_score, f1_score\n",
    "import numpy as np\n",
    "\n",
    "metrics = {\n",
    "    \"Precision\": precision_score(y_true, y_pred),\n",
    "    \"Recall\": recall_score(y_true, y_pred),\n",
    "    \"F1-score\": f1_score(y_true, y_pred),\n",
    "    \"Accuracy\": (np.array(y_true) == np.array(y_pred)).mean()\n",
    "}\n",
    "\n",
    "plt.figure(figsize=(7, 4))\n",
    "sns.barplot(x=list(metrics.keys()), y=list(metrics.values()), palette=\"viridis\")\n",
    "plt.ylim(0, 1)\n",
    "plt.title(\"Performance Metrics (BERT Classifier)\")\n",
    "plt.ylabel(\"Score\")\n",
    "plt.tight_layout()\n",
    "plt.show()\n"
   ]
  }
 ],
 "metadata": {
  "kernelspec": {
   "display_name": "Python (venv)",
   "language": "python",
   "name": "venv"
  },
  "language_info": {
   "codemirror_mode": {
    "name": "ipython",
    "version": 3
   },
   "file_extension": ".py",
   "mimetype": "text/x-python",
   "name": "python",
   "nbconvert_exporter": "python",
   "pygments_lexer": "ipython3",
   "version": "3.12.3"
  }
 },
 "nbformat": 4,
 "nbformat_minor": 5
}
